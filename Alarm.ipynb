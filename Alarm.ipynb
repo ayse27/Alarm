{
 "cells": [
  {
   "cell_type": "code",
   "execution_count": null,
   "id": "afc0aa79-8ce1-4c13-aec5-d068f5f32059",
   "metadata": {},
   "outputs": [],
   "source": [
    "import time\n",
    "import threading\n",
    "\n",
    "def alarm(zaman):\n",
    "    print(f\"Alarm kuruldu! Alarm çalacak zaman: {zaman}\")\n",
    "    while True:\n",
    "        if time.strftime(\"%H:%M:%S\") == zaman:\n",
    "            print(\"\\n\\n*** Alarm Çalıyor! ***\\n\\n\")\n",
    "            break\n",
    "        time.sleep(1)\n",
    "\n",
    "def saat():\n",
    "    while True:\n",
    "        print(\"\\r\", time.strftime(\"%H:%M:%S\"), end=\"\")\n",
    "        time.sleep(1)\n",
    "\n",
    "if __name__ == \"__main__\":\n",
    "    print(\"Saat ve Alarm Uygulamasına Hoş Geldiniz!\")\n",
    "    print(\"1. Sadece Saati Göster\\n2. Alarm Kur\")\n",
    "    secim = input(\"Seçiminizi yapın (1 veya 2): \")\n",
    "\n",
    "    if secim == \"1\":\n",
    "        print(\"\\nSaat Gösteriliyor. Çıkmak için Ctrl+C.\")\n",
    "        try:\n",
    "            saat()\n",
    "        except KeyboardInterrupt:\n",
    "            print(\"\\nÇıkış yapıldı.\")\n",
    "\n",
    "    elif secim == \"2\":\n",
    "        alarm_zaman = input(\"Alarmı ayarlayın (HH:MM:SS formatında): \")\n",
    "        t = threading.Thread(target=alarm, args=(alarm_zaman,))\n",
    "        t.start()\n",
    "        try:\n",
    "            saat()\n",
    "        except KeyboardInterrupt:\n",
    "            print(\"\\nÇıkış yapıldı.\")\n",
    "\n",
    "    else:\n",
    "        print(\"Geçersiz seçim.\")\n"
   ]
  },
  {
   "cell_type": "code",
   "execution_count": null,
   "id": "d9f91c81-b7c1-4b0e-9e6c-7689791c7fd8",
   "metadata": {},
   "outputs": [],
   "source": []
  }
 ],
 "metadata": {
  "kernelspec": {
   "display_name": "Python 3 (ipykernel)",
   "language": "python",
   "name": "python3"
  },
  "language_info": {
   "codemirror_mode": {
    "name": "ipython",
    "version": 3
   },
   "file_extension": ".py",
   "mimetype": "text/x-python",
   "name": "python",
   "nbconvert_exporter": "python",
   "pygments_lexer": "ipython3",
   "version": "3.12.7"
  }
 },
 "nbformat": 4,
 "nbformat_minor": 5
}
